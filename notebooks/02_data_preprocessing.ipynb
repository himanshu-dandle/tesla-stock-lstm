{
 "cells": [
  {
   "cell_type": "code",
   "execution_count": 3,
   "id": "06c0013c-0e17-478d-99ab-fb1d8e025a6b",
   "metadata": {},
   "outputs": [],
   "source": [
    "import numpy as np\n",
    "import pandas as pd\n",
    "import os\n",
    "from sklearn.preprocessing import MinMaxScaler\n",
    "\n",
    "import joblib"
   ]
  },
  {
   "cell_type": "code",
   "execution_count": 5,
   "id": "f5387fc9-9057-4e09-91f1-471aff80b0d9",
   "metadata": {},
   "outputs": [],
   "source": [
    "\n",
    "# Load the dataset\n",
    "csv_path = \"../data/TESLA.csv\"  # Ensure this file exists\n",
    "df = pd.read_csv(csv_path)"
   ]
  },
  {
   "cell_type": "code",
   "execution_count": 7,
   "id": "44762294-6e1b-42ae-b590-76902a4fcca3",
   "metadata": {},
   "outputs": [],
   "source": [
    "# Use only the 'Close' price column\n",
    "data = df[['Close']].values  # Extract Close prices as numpy array\n"
   ]
  },
  {
   "cell_type": "code",
   "execution_count": 9,
   "id": "61b685b1-aff0-4367-be53-1cf33a6e846b",
   "metadata": {},
   "outputs": [],
   "source": [
    "\n",
    "# Normalize the data using MinMaxScaler (Scale values between 0 and 1)\n",
    "scaler = MinMaxScaler(feature_range=(0, 1))\n",
    "data_scaled = scaler.fit_transform(data)"
   ]
  },
  {
   "cell_type": "code",
   "execution_count": 11,
   "id": "51a7622c-ac67-4739-8b67-fc6442007cc9",
   "metadata": {},
   "outputs": [
    {
     "name": "stdout",
     "output_type": "stream",
     "text": [
      "✅ Scaler saved successfully at: ../results/scaler.pkl\n"
     ]
    }
   ],
   "source": [
    "scaler_path = \"../results/scaler.pkl\"\n",
    "joblib.dump(scaler, scaler_path)\n",
    "print(f\"✅ Scaler saved successfully at: {scaler_path}\")\n"
   ]
  },
  {
   "cell_type": "code",
   "execution_count": 13,
   "id": "1e143cce-8d1a-4819-98df-27788828b67b",
   "metadata": {},
   "outputs": [],
   "source": [
    "# Create sequences for LSTM (Last 60 days of stock prices → Predict next price)\n",
    "sequence_length = 60\n",
    "X, y = [], []\n",
    "\n",
    "for i in range(len(data_scaled) - sequence_length):\n",
    "    X.append(data_scaled[i:i + sequence_length])\n",
    "    y.append(data_scaled[i + sequence_length])"
   ]
  },
  {
   "cell_type": "code",
   "execution_count": 15,
   "id": "2493595a-0fb1-4202-ac9d-65939315a975",
   "metadata": {},
   "outputs": [],
   "source": [
    "X, y = np.array(X), np.array(y)"
   ]
  },
  {
   "cell_type": "code",
   "execution_count": 17,
   "id": "d26d1bbc-e3aa-4f13-805d-48a4d892f70d",
   "metadata": {},
   "outputs": [],
   "source": [
    "##Split into Training (80%) and Testing (20%) sets\n",
    "split_idx = int(len(X) * 0.8)\n",
    "X_train, y_train = X[:split_idx], y[:split_idx]\n",
    "X_test, y_test = X[split_idx:], y[split_idx:]\n"
   ]
  },
  {
   "cell_type": "code",
   "execution_count": 19,
   "id": "5c61cf92-de6a-4ce9-bc5d-eab04bf545a0",
   "metadata": {},
   "outputs": [
    {
     "data": {
      "text/plain": [
       "(2316, 60, 1)"
      ]
     },
     "execution_count": 19,
     "metadata": {},
     "output_type": "execute_result"
    }
   ],
   "source": [
    "X_train.shape\n"
   ]
  },
  {
   "cell_type": "code",
   "execution_count": 21,
   "id": "6f3e6286-1db8-4e85-9293-9d80eadfd497",
   "metadata": {},
   "outputs": [
    {
     "data": {
      "text/plain": [
       "(2316, 1)"
      ]
     },
     "execution_count": 21,
     "metadata": {},
     "output_type": "execute_result"
    }
   ],
   "source": [
    "y_train.shape"
   ]
  },
  {
   "cell_type": "code",
   "execution_count": 23,
   "id": "391855c9-930f-411d-acac-2ae50bb20fdb",
   "metadata": {},
   "outputs": [],
   "source": [
    "np.save(\"../data/X_train.npy\", X_train)  \n",
    "np.save(\"../data/y_train.npy\", y_train)  \n"
   ]
  },
  {
   "cell_type": "code",
   "execution_count": 25,
   "id": "72720fb9-5d14-4703-baef-70a87c2d46c4",
   "metadata": {},
   "outputs": [],
   "source": [
    "# Save test data for evaluation\n",
    "np.save(\"../data/X_test.npy\", X_test)\n",
    "np.save(\"../data/y_test.npy\", y_test)\n"
   ]
  },
  {
   "cell_type": "code",
   "execution_count": 27,
   "id": "0aa1f51e-0ff3-48d6-92a1-c9471c515fae",
   "metadata": {},
   "outputs": [
    {
     "name": "stdout",
     "output_type": "stream",
     "text": [
      "✅ Scaler re-saved successfully at: ../results/scaler.pkl\n"
     ]
    }
   ],
   "source": [
    "import joblib\n",
    "import os\n",
    "from sklearn.preprocessing import MinMaxScaler\n",
    "\n",
    "scaler_path = \"../results/scaler.pkl\"\n",
    "\n",
    "# Load the dataset\n",
    "csv_path = \"../data/TESLA.csv\"\n",
    "df = pd.read_csv(csv_path)\n",
    "\n",
    "# Use only the 'Close' price column\n",
    "data = df[['Close']].values\n",
    "\n",
    "# Normalize the data using MinMaxScaler (1.0.2 version)\n",
    "scaler = MinMaxScaler(feature_range=(0, 1))\n",
    "scaler.fit(data)  # Fit only, no transform needed here\n",
    "\n",
    "# ✅ Save the scaler using scikit-learn 1.0.2\n",
    "joblib.dump(scaler, scaler_path)\n",
    "print(f\"✅ Scaler re-saved successfully at: {scaler_path}\")\n"
   ]
  },
  {
   "cell_type": "code",
   "execution_count": null,
   "id": "9ca7c7c8-8360-4532-baaf-babf1e7c5e47",
   "metadata": {},
   "outputs": [],
   "source": []
  }
 ],
 "metadata": {
  "kernelspec": {
   "display_name": "Python 3 (ipykernel)",
   "language": "python",
   "name": "python3"
  },
  "language_info": {
   "codemirror_mode": {
    "name": "ipython",
    "version": 3
   },
   "file_extension": ".py",
   "mimetype": "text/x-python",
   "name": "python",
   "nbconvert_exporter": "python",
   "pygments_lexer": "ipython3",
   "version": "3.12.3"
  }
 },
 "nbformat": 4,
 "nbformat_minor": 5
}
